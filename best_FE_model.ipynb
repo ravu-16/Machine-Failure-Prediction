{
 "cells": [
  {
   "cell_type": "markdown",
   "metadata": {},
   "source": [
    "# Final FE and Modeling"
   ]
  },
  {
   "cell_type": "markdown",
   "metadata": {},
   "source": [
    "- This is the feature engineering method that gives the best result.\n",
    "- We have considered the 'RECOVERING' class as 'BROKEN' class and we did continues rolling window creation.\n",
    "- We are using a 10-minute window size and we have predicted all the failure 5 minutes before.\n",
    "- for some failure we are getting warning 20 minutes before, it is always good to get a failure warning as soon as possible."
   ]
  },
  {
   "cell_type": "code",
   "execution_count": 1,
   "metadata": {},
   "outputs": [],
   "source": [
    "import numpy as np\n",
    "import pandas as pd\n",
    "from tqdm.notebook import tqdm\n",
    "import matplotlib.pyplot as plt\n",
    "import seaborn as sns\n",
    "import os\n",
    "import pickle\n",
    "from sklearn.metrics import roc_auc_score"
   ]
  },
  {
   "cell_type": "code",
   "execution_count": 108,
   "metadata": {},
   "outputs": [
    {
     "name": "stdout",
     "output_type": "stream",
     "text": [
      "   Unnamed: 0            timestamp  sensor_00  sensor_01  sensor_02  \\\n",
      "0           0  2018-04-01 00:00:00   2.465394   47.09201    53.2118   \n",
      "1           1  2018-04-01 00:01:00   2.465394   47.09201    53.2118   \n",
      "2           2  2018-04-01 00:02:00   2.444734   47.35243    53.2118   \n",
      "\n",
      "   sensor_03  sensor_04  sensor_05  sensor_06  sensor_07  ...  sensor_43  \\\n",
      "0   46.31076   634.3750   76.45975   13.41146   16.13136  ...   41.92708   \n",
      "1   46.31076   634.3750   76.45975   13.41146   16.13136  ...   41.92708   \n",
      "2   46.39757   638.8889   73.54598   13.32465   16.03733  ...   41.66666   \n",
      "\n",
      "   sensor_44  sensor_45  sensor_46  sensor_47  sensor_48  sensor_49  \\\n",
      "0  39.641200   65.68287   50.92593  38.194440   157.9861   67.70834   \n",
      "1  39.641200   65.68287   50.92593  38.194440   157.9861   67.70834   \n",
      "2  39.351852   65.39352   51.21528  38.194443   155.9606   67.12963   \n",
      "\n",
      "   sensor_50  sensor_51  machine_status  \n",
      "0   243.0556   201.3889          NORMAL  \n",
      "1   243.0556   201.3889          NORMAL  \n",
      "2   241.3194   203.7037          NORMAL  \n",
      "\n",
      "[3 rows x 55 columns]\n",
      "all class labels: ['NORMAL' 'BROKEN' 'RECOVERING']\n"
     ]
    }
   ],
   "source": [
    "data=pd.read_csv('sensor.csv')\n",
    "print(data.head(3))\n",
    "print('all class labels:',data['machine_status'].unique())"
   ]
  },
  {
   "cell_type": "markdown",
   "metadata": {},
   "source": [
    "### Printing failure date with recovering time:"
   ]
  },
  {
   "cell_type": "code",
   "execution_count": 109,
   "metadata": {},
   "outputs": [
    {
     "name": "stderr",
     "output_type": "stream",
     "text": [
      "D:\\study\\anna\\lib\\site-packages\\pandas\\core\\generic.py:8767: SettingWithCopyWarning: \n",
      "A value is trying to be set on a copy of a slice from a DataFrame\n",
      "\n",
      "See the caveats in the documentation: https://pandas.pydata.org/pandas-docs/stable/user_guide/indexing.html#returning-a-view-versus-a-copy\n",
      "  self._update_inplace(new_data)\n"
     ]
    },
    {
     "name": "stdout",
     "output_type": "stream",
     "text": [
      "for failure 1 at 2018-04-12 21:55:00, recovering time is 15.733333333333333 hours\n",
      "for failure 2 at 2018-04-18 00:30:00, recovering time is 51.833333333333336 hours\n",
      "for failure 3 at 2018-05-19 03:18:00, recovering time is 21.866666666666667 hours\n",
      "for failure 4 at 2018-05-25 00:30:00, recovering time is 10.083333333333334 hours\n",
      "for failure 5 at 2018-06-28 22:00:00, recovering time is 139.83333333333334 hours\n",
      "for failure 6 at 2018-07-08 00:11:00, recovering time is 0.6833333333333333 hours\n",
      "for failure 7 at 2018-07-25 14:00:00, recovering time is 1.25 hours\n"
     ]
    }
   ],
   "source": [
    "df_temp=data[['timestamp','machine_status']]\n",
    "df_temp['machine_status'][df_temp['machine_status']=='BROKEN']= 1\n",
    "df_temp['machine_status'][df_temp['machine_status']=='NORMAL']= 0\n",
    "df_temp['machine_status'][df_temp['machine_status']=='RECOVERING']= -1\n",
    "\n",
    "f=1\n",
    "for i in df_temp[df_temp['machine_status']==1].index:\n",
    "    j=i+1\n",
    "    temp=0\n",
    "    while df_temp['machine_status'][j] == -1:\n",
    "        temp=temp+1\n",
    "        j=j+1\n",
    "    print('for failure {0} at {2}, recovering time is {1} hours'.format(f,temp/60,df_temp['timestamp'][i]))\n",
    "    f=f+1"
   ]
  },
  {
   "cell_type": "markdown",
   "metadata": {},
   "source": [
    "# FE:\n",
    "- We are using roling window method to create feature set, for each window we are going to take min, max, standerd deviation, midian and mean.\n",
    "- We are using window of 10 samples and we are preding failure 5 minutes befor it happen.\n",
    "- we are using window spacing of 1.\n",
    "- if samples are like s1,s2,s3....... then 1st window is s1 - s10 and 2nd should be s2-s11 and so on. \n",
    "- Here we are removing all the sensor which is not changing with the class label, we have found it in EDA.\n",
    "- Since the recovering appear after failure means the recovering state is not a normal state hence we are considering the 'RECOVERING' class as a 'BROKEN' class and kept it as it is in the dataset.\n",
    "- Windows are continuous rolling window means, we are nor dropping any part of the dataset as we did in the previous approach where we removed the recovering state with that we  skipped each broken window for prediction of the next failure."
   ]
  },
  {
   "cell_type": "code",
   "execution_count": 110,
   "metadata": {},
   "outputs": [],
   "source": [
    "data.drop(['sensor_15','Unnamed: 0','sensor_01','sensor_03','sensor_14','sensor_16','sensor_17','sensor_18','sensor_19','sensor_20','sensor_21',\n",
    "           'sensor_22','sensor_23','sensor_24','sensor_25','sensor_26','sensor_27','sensor_28','sensor_29','sensor_30',\n",
    "           'sensor_31','sensor_33','sensor_34','sensor_37','sensor_36','sensor_48'],\n",
    "          inplace=True,axis=1) #droping unwanted feature"
   ]
  },
  {
   "cell_type": "markdown",
   "metadata": {},
   "source": [
    "## Filling NA values:\n",
    "- I have filled all NA values of a particular feature with the mean of that feature.\n",
    "- I have selected 50% data and then find out the mean to fill NA because these 50% part we are going to use for training."
   ]
  },
  {
   "cell_type": "code",
   "execution_count": 111,
   "metadata": {},
   "outputs": [
    {
     "data": {
      "application/vnd.jupyter.widget-view+json": {
       "model_id": "627655f41bd94b8ea0f328dcad0e8842",
       "version_major": 2,
       "version_minor": 0
      },
      "text/plain": [
       "HBox(children=(FloatProgress(value=0.0, max=27.0), HTML(value='')))"
      ]
     },
     "metadata": {},
     "output_type": "display_data"
    },
    {
     "name": "stdout",
     "output_type": "stream",
     "text": [
      "\n"
     ]
    }
   ],
   "source": [
    "mean=data.iloc[0:int((data.shape[0]*50)/100)][data.columns[1:-1]].mean().values\n",
    "for i in tqdm(range(1,len(data.columns)-1)):\n",
    "    col=data.columns[i]\n",
    "    data[col]=data[col].fillna(mean[i-1])\n",
    "np.save(open('NA_replace','wb'),mean)# saving mean for to use in "
   ]
  },
  {
   "cell_type": "code",
   "execution_count": 112,
   "metadata": {},
   "outputs": [],
   "source": [
    "# we replace normal class with 0 and other 2 class as 1\n",
    "\n",
    "def map_fun(x):\n",
    "    if x=='NORMAL':\n",
    "        return 0\n",
    "    else:\n",
    "        return 1\n",
    "\n",
    "data['machine_status']=data.machine_status.map(map_fun)"
   ]
  },
  {
   "cell_type": "code",
   "execution_count": 113,
   "metadata": {},
   "outputs": [],
   "source": [
    "# creating dataframe feature name.\n",
    "columns=[]\n",
    "for col in data.columns[1:-1]:\n",
    "    columns.append('s{0}_median'.format(col[7:])) #to select sensor number\n",
    "    columns.append('s{0}_mean'.format(col[7:]))\n",
    "    columns.append('s{0}_std'.format(col[7:]))\n",
    "    columns.append('s{0}_min'.format(col[7:]))\n",
    "    columns.append('s{0}_max'.format(col[7:]))\n",
    "columns.append('machine_status')"
   ]
  },
  {
   "cell_type": "code",
   "execution_count": 114,
   "metadata": {},
   "outputs": [],
   "source": [
    "# create rolling window features\n",
    "w=10\n",
    "\n",
    "X = []\n",
    "for i in data.columns[1:]:\n",
    "    X1,X2,X3,X4,X5,X6=[],[],[],[],[],[]\n",
    "    if not i =='machine_status':\n",
    "        X1.append(data[i].rolling(w).median()) #creating mean min etc for each sensor window\n",
    "        X2.append(data[i].rolling(w).mean())\n",
    "        X3.append(data[i].rolling(w).std())\n",
    "        X4.append(data[i].rolling(w).min())\n",
    "        X5.append(data[i].rolling(w).max())\n",
    "        fea_data = np.hstack([np.array(X1).reshape(-1,1),np.array(X2).reshape(-1,1),\\\n",
    "                       np.array(X3).reshape(-1,1),np.array(X4).reshape(-1,1),\\\n",
    "                       np.array(X5).reshape(-1,1)])\n",
    "    else:    \n",
    "        X6.append(data[i].rolling(w).max()) # taking class label, if there is even singal failure we consider whole window as failure window.\n",
    "        fea_data=np.array(X6).reshape(-1,1)\n",
    "    X.append(fea_data)"
   ]
  },
  {
   "cell_type": "code",
   "execution_count": 115,
   "metadata": {},
   "outputs": [],
   "source": [
    "temp_data = X[0]\n",
    "for i in range(1,len(X)):\n",
    "    temp_data = np.hstack([temp_data, X[i]])\n",
    "\n",
    "data_df = pd.DataFrame(temp_data, columns=columns)"
   ]
  },
  {
   "cell_type": "code",
   "execution_count": 116,
   "metadata": {},
   "outputs": [],
   "source": [
    "data_df=data_df.loc[w-1:] #removing w-1 rows from start because that all are NAN, it happen because size of data frame same as-- \n",
    "#size of orignal data frame but, it should be w-1 less than orignal dataframe."
   ]
  },
  {
   "cell_type": "code",
   "execution_count": 117,
   "metadata": {},
   "outputs": [],
   "source": [
    "# we are shifting dataframe by 2w, because we want to predict failure w minuts before. \n",
    "temp1=data_df['machine_status'].iloc[w+w:].values\n",
    "temp2=data['timestamp'].iloc[w:-(w+w-1)].values\n",
    "data_df=data_df.iloc[:-(w+w)].copy()\n",
    "data_df['machine_status']=temp1\n",
    "data_df['timestamp']=temp2"
   ]
  },
  {
   "cell_type": "code",
   "execution_count": 118,
   "metadata": {},
   "outputs": [],
   "source": [
    "data_df.to_csv('final.csv')"
   ]
  },
  {
   "cell_type": "markdown",
   "metadata": {},
   "source": [
    "# MODELING:"
   ]
  },
  {
   "cell_type": "code",
   "execution_count": 2,
   "metadata": {},
   "outputs": [],
   "source": [
    "import pandas as pd\n",
    "import numpy as np\n",
    "from sklearn.ensemble import RandomForestClassifier\n",
    "import seaborn as sns\n",
    "import matplotlib.pyplot as plt\n",
    "from sklearn.preprocessing import MinMaxScaler\n",
    "from tqdm.notebook import tqdm\n",
    "from sklearn.metrics import  recall_score, confusion_matrix\n",
    "from zipfile import ZipFile"
   ]
  },
  {
   "cell_type": "code",
   "execution_count": 3,
   "metadata": {},
   "outputs": [
    {
     "data": {
      "text/html": [
       "<div>\n",
       "<style scoped>\n",
       "    .dataframe tbody tr th:only-of-type {\n",
       "        vertical-align: middle;\n",
       "    }\n",
       "\n",
       "    .dataframe tbody tr th {\n",
       "        vertical-align: top;\n",
       "    }\n",
       "\n",
       "    .dataframe thead th {\n",
       "        text-align: right;\n",
       "    }\n",
       "</style>\n",
       "<table border=\"1\" class=\"dataframe\">\n",
       "  <thead>\n",
       "    <tr style=\"text-align: right;\">\n",
       "      <th></th>\n",
       "      <th>s00_median</th>\n",
       "      <th>s00_mean</th>\n",
       "      <th>s00_std</th>\n",
       "      <th>s00_min</th>\n",
       "      <th>s00_max</th>\n",
       "      <th>s02_median</th>\n",
       "      <th>s02_mean</th>\n",
       "      <th>s02_std</th>\n",
       "      <th>s02_min</th>\n",
       "      <th>s02_max</th>\n",
       "      <th>...</th>\n",
       "      <th>s50_std</th>\n",
       "      <th>s50_min</th>\n",
       "      <th>s50_max</th>\n",
       "      <th>s51_median</th>\n",
       "      <th>s51_mean</th>\n",
       "      <th>s51_std</th>\n",
       "      <th>s51_min</th>\n",
       "      <th>s51_max</th>\n",
       "      <th>machine_status</th>\n",
       "      <th>timestamp</th>\n",
       "    </tr>\n",
       "  </thead>\n",
       "  <tbody>\n",
       "    <tr>\n",
       "      <th>9</th>\n",
       "      <td>2.454572</td>\n",
       "      <td>2.454965</td>\n",
       "      <td>0.008337</td>\n",
       "      <td>2.444734</td>\n",
       "      <td>2.465394</td>\n",
       "      <td>53.1684</td>\n",
       "      <td>53.18576</td>\n",
       "      <td>0.022412</td>\n",
       "      <td>53.1684</td>\n",
       "      <td>53.2118</td>\n",
       "      <td>...</td>\n",
       "      <td>1.825207</td>\n",
       "      <td>240.162</td>\n",
       "      <td>246.5278</td>\n",
       "      <td>201.3889</td>\n",
       "      <td>201.64930</td>\n",
       "      <td>1.033864</td>\n",
       "      <td>200.2315</td>\n",
       "      <td>203.7037</td>\n",
       "      <td>0.0</td>\n",
       "      <td>2018-04-01 00:10:00</td>\n",
       "    </tr>\n",
       "    <tr>\n",
       "      <th>10</th>\n",
       "      <td>2.454572</td>\n",
       "      <td>2.454867</td>\n",
       "      <td>0.008205</td>\n",
       "      <td>2.444734</td>\n",
       "      <td>2.465394</td>\n",
       "      <td>53.1684</td>\n",
       "      <td>53.17708</td>\n",
       "      <td>0.027449</td>\n",
       "      <td>53.1250</td>\n",
       "      <td>53.2118</td>\n",
       "      <td>...</td>\n",
       "      <td>3.285012</td>\n",
       "      <td>240.162</td>\n",
       "      <td>250.8681</td>\n",
       "      <td>201.3889</td>\n",
       "      <td>201.50462</td>\n",
       "      <td>1.167013</td>\n",
       "      <td>199.9421</td>\n",
       "      <td>203.7037</td>\n",
       "      <td>0.0</td>\n",
       "      <td>2018-04-01 00:11:00</td>\n",
       "    </tr>\n",
       "    <tr>\n",
       "      <th>11</th>\n",
       "      <td>2.451621</td>\n",
       "      <td>2.452801</td>\n",
       "      <td>0.007854</td>\n",
       "      <td>2.444734</td>\n",
       "      <td>2.464410</td>\n",
       "      <td>53.1684</td>\n",
       "      <td>53.17274</td>\n",
       "      <td>0.024636</td>\n",
       "      <td>53.1250</td>\n",
       "      <td>53.2118</td>\n",
       "      <td>...</td>\n",
       "      <td>4.587768</td>\n",
       "      <td>240.162</td>\n",
       "      <td>253.1829</td>\n",
       "      <td>201.2442</td>\n",
       "      <td>201.38888</td>\n",
       "      <td>1.235168</td>\n",
       "      <td>199.9421</td>\n",
       "      <td>203.7037</td>\n",
       "      <td>0.0</td>\n",
       "      <td>2018-04-01 00:12:00</td>\n",
       "    </tr>\n",
       "    <tr>\n",
       "      <th>12</th>\n",
       "      <td>2.454572</td>\n",
       "      <td>2.454375</td>\n",
       "      <td>0.007632</td>\n",
       "      <td>2.444734</td>\n",
       "      <td>2.464410</td>\n",
       "      <td>53.1684</td>\n",
       "      <td>53.16406</td>\n",
       "      <td>0.024636</td>\n",
       "      <td>53.1250</td>\n",
       "      <td>53.2118</td>\n",
       "      <td>...</td>\n",
       "      <td>5.279667</td>\n",
       "      <td>240.162</td>\n",
       "      <td>253.1829</td>\n",
       "      <td>201.2442</td>\n",
       "      <td>201.24420</td>\n",
       "      <td>0.995350</td>\n",
       "      <td>199.9421</td>\n",
       "      <td>203.1250</td>\n",
       "      <td>0.0</td>\n",
       "      <td>2018-04-01 00:13:00</td>\n",
       "    </tr>\n",
       "    <tr>\n",
       "      <th>13</th>\n",
       "      <td>2.451621</td>\n",
       "      <td>2.453195</td>\n",
       "      <td>0.007495</td>\n",
       "      <td>2.444734</td>\n",
       "      <td>2.464410</td>\n",
       "      <td>53.1684</td>\n",
       "      <td>53.16406</td>\n",
       "      <td>0.024636</td>\n",
       "      <td>53.1250</td>\n",
       "      <td>53.2118</td>\n",
       "      <td>...</td>\n",
       "      <td>5.484062</td>\n",
       "      <td>240.162</td>\n",
       "      <td>253.1829</td>\n",
       "      <td>201.2442</td>\n",
       "      <td>201.21526</td>\n",
       "      <td>0.937092</td>\n",
       "      <td>199.9421</td>\n",
       "      <td>202.8356</td>\n",
       "      <td>0.0</td>\n",
       "      <td>2018-04-01 00:14:00</td>\n",
       "    </tr>\n",
       "  </tbody>\n",
       "</table>\n",
       "<p>5 rows × 137 columns</p>\n",
       "</div>"
      ],
      "text/plain": [
       "    s00_median  s00_mean   s00_std   s00_min   s00_max  s02_median  s02_mean  \\\n",
       "9     2.454572  2.454965  0.008337  2.444734  2.465394     53.1684  53.18576   \n",
       "10    2.454572  2.454867  0.008205  2.444734  2.465394     53.1684  53.17708   \n",
       "11    2.451621  2.452801  0.007854  2.444734  2.464410     53.1684  53.17274   \n",
       "12    2.454572  2.454375  0.007632  2.444734  2.464410     53.1684  53.16406   \n",
       "13    2.451621  2.453195  0.007495  2.444734  2.464410     53.1684  53.16406   \n",
       "\n",
       "     s02_std  s02_min  s02_max  ...   s50_std  s50_min   s50_max  s51_median  \\\n",
       "9   0.022412  53.1684  53.2118  ...  1.825207  240.162  246.5278    201.3889   \n",
       "10  0.027449  53.1250  53.2118  ...  3.285012  240.162  250.8681    201.3889   \n",
       "11  0.024636  53.1250  53.2118  ...  4.587768  240.162  253.1829    201.2442   \n",
       "12  0.024636  53.1250  53.2118  ...  5.279667  240.162  253.1829    201.2442   \n",
       "13  0.024636  53.1250  53.2118  ...  5.484062  240.162  253.1829    201.2442   \n",
       "\n",
       "     s51_mean   s51_std   s51_min   s51_max  machine_status  \\\n",
       "9   201.64930  1.033864  200.2315  203.7037             0.0   \n",
       "10  201.50462  1.167013  199.9421  203.7037             0.0   \n",
       "11  201.38888  1.235168  199.9421  203.7037             0.0   \n",
       "12  201.24420  0.995350  199.9421  203.1250             0.0   \n",
       "13  201.21526  0.937092  199.9421  202.8356             0.0   \n",
       "\n",
       "              timestamp  \n",
       "9   2018-04-01 00:10:00  \n",
       "10  2018-04-01 00:11:00  \n",
       "11  2018-04-01 00:12:00  \n",
       "12  2018-04-01 00:13:00  \n",
       "13  2018-04-01 00:14:00  \n",
       "\n",
       "[5 rows x 137 columns]"
      ]
     },
     "execution_count": 3,
     "metadata": {},
     "output_type": "execute_result"
    }
   ],
   "source": [
    "X=pd.read_csv('final.csv',index_col=0)\n",
    "X.head()"
   ]
  },
  {
   "cell_type": "markdown",
   "metadata": {},
   "source": [
    "## Train test split\n",
    "- As we know we have temporal data so there are chances of data that may vary with time then the result will also vary. hence it is better to split our data based on time like make older data for the train and newer for the test. \n",
    "- We have only 7 failure data points from which we made 10 data points of each in the FE section, we decided to use 4 data point for train and 2 for CV and 1 for a test. \n",
    "- We will use 50% data for train and 25% for each CV and test."
   ]
  },
  {
   "cell_type": "code",
   "execution_count": 4,
   "metadata": {},
   "outputs": [
    {
     "name": "stdout",
     "output_type": "stream",
     "text": [
      "train shape: (110145, 137)\n",
      "cv shape: (55073, 137)\n",
      "test shape: (55073, 137)\n"
     ]
    }
   ],
   "source": [
    "X_train=X.iloc[0:int((X.shape[0]*50)/100)]\n",
    "X_cv=X.iloc[int((X.shape[0]*50)/100):int((X.shape[0]*75)/100)]\n",
    "X_test=X.iloc[int((X.shape[0]*75)/100):]\n",
    "print('train shape:',X_train.shape)\n",
    "print('cv shape:',X_cv.shape)\n",
    "print('test shape:',X_test.shape)"
   ]
  },
  {
   "cell_type": "markdown",
   "metadata": {},
   "source": [
    "## Checking for data leakage\n",
    "-  we have 10 points for each single failure hence there is chances of placing some points in train and some points in cv those belong to singal failure. i am printing dates so that i can check data leakage."
   ]
  },
  {
   "cell_type": "code",
   "execution_count": 5,
   "metadata": {},
   "outputs": [
    {
     "name": "stdout",
     "output_type": "stream",
     "text": [
      "train failure dates:\n",
      " dict_keys([datetime.date(2018, 4, 12), datetime.date(2018, 4, 13), datetime.date(2018, 4, 18), datetime.date(2018, 4, 19), datetime.date(2018, 4, 20), datetime.date(2018, 5, 19), datetime.date(2018, 5, 20), datetime.date(2018, 5, 25)])\n",
      "cv failure dates:\n",
      " dict_keys([datetime.date(2018, 6, 28), datetime.date(2018, 6, 29), datetime.date(2018, 6, 30), datetime.date(2018, 7, 1), datetime.date(2018, 7, 2), datetime.date(2018, 7, 3), datetime.date(2018, 7, 4), datetime.date(2018, 7, 7), datetime.date(2018, 7, 8)])\n"
     ]
    }
   ],
   "source": [
    "\n",
    "X_train_fail=X_train[X_train['machine_status']==1].copy()\n",
    "X_train_fail['timestamp']=pd.to_datetime(X_train_fail['timestamp'])\n",
    "g1=X_train_fail.groupby(by=X_train_fail['timestamp'].dt.date)\n",
    "print('train failure dates:\\n',g1.groups.keys())\n",
    "\n",
    "X_cv_fail=X_cv[X_cv['machine_status']==1].copy()\n",
    "X_cv_fail['timestamp']=pd.to_datetime(X_cv_fail['timestamp'])\n",
    "g2=X_cv_fail.groupby(by=X_cv_fail['timestamp'].dt.date)\n",
    "print('cv failure dates:\\n',g2.groups.keys())"
   ]
  },
  {
   "cell_type": "code",
   "execution_count": 6,
   "metadata": {},
   "outputs": [],
   "source": [
    "y_train = X_train['machine_status']\n",
    "X_train = X_train.drop(['machine_status'], axis=1)\n",
    "y_cv = X_cv['machine_status']\n",
    "X_cv = X_cv.drop(['machine_status'], axis=1)\n",
    "y_test = X_test['machine_status']\n",
    "X_test = X_test.drop(['machine_status'], axis=1)"
   ]
  },
  {
   "cell_type": "code",
   "execution_count": 7,
   "metadata": {},
   "outputs": [
    {
     "name": "stdout",
     "output_type": "stream",
     "text": [
      "train labels count:\n",
      " 0.0    104134\n",
      "1.0      6011\n",
      "Name: machine_status, dtype: int64\n",
      "cv labels count:\n",
      " 0.0    46622\n",
      "1.0     8451\n",
      "Name: machine_status, dtype: int64\n",
      "test labels count:\n",
      " 0.0    54988\n",
      "1.0       85\n",
      "Name: machine_status, dtype: int64\n"
     ]
    }
   ],
   "source": [
    "print('train labels count:\\n',y_train.value_counts())\n",
    "print('cv labels count:\\n',y_cv.value_counts())\n",
    "print('test labels count:\\n',y_test.value_counts())"
   ]
  },
  {
   "cell_type": "markdown",
   "metadata": {},
   "source": [
    "## Normalization:"
   ]
  },
  {
   "cell_type": "code",
   "execution_count": 8,
   "metadata": {},
   "outputs": [],
   "source": [
    "with ZipFile('model_scaler.zip', 'w') as zipObj2: #storing all scaler function to use in inference time\n",
    "    for col in X_train.columns[0:-1]:\n",
    "        scaler = MinMaxScaler()\n",
    "        X_train[col]=scaler.fit_transform(X_train[col].values.reshape(-1, 1))\n",
    "        X_cv[col]=scaler.transform(X_cv[col].values.reshape(-1, 1))\n",
    "        X_test[col]=scaler.transform(X_test[col].values.reshape(-1, 1))\n",
    "        model_scaler = pickle.dump(scaler, open('model_scaler_{0}'.format(col), 'wb'))\n",
    "        zipObj2.write('model_scaler_{0}'.format(col))\n",
    "zipObj2.close()      "
   ]
  },
  {
   "cell_type": "code",
   "execution_count": 9,
   "metadata": {},
   "outputs": [],
   "source": [
    "def plot_confusion_matrix(test_y, predict_y):\n",
    "    \"\"\" this function print cunfusion matrix and recall matrix\n",
    "    \"\"\"\n",
    "    labels = [0,1]\n",
    "    C = confusion_matrix(test_y, predict_y,labels=labels)\n",
    "    A =(((C.T)/(C.sum(axis=1))).T)\n",
    "    # representing A in heatmap format\n",
    "    print(\"-\"*20, \"Confusion matrix\", \"-\"*20)\n",
    "    plt.figure(figsize=(5,4))\n",
    "    sns.heatmap(C, annot=True, cmap=\"YlGnBu\", fmt=\".3f\", xticklabels=labels, yticklabels=labels)\n",
    "    plt.xlabel('Predicted Class')\n",
    "    plt.ylabel('Original Class')\n",
    "    plt.show()\n",
    "\n",
    "    print(\"-\"*20, \"Recall matrix (Row sum=1)\", \"-\"*20)\n",
    "    plt.figure(figsize=(5,4))\n",
    "    sns.heatmap(A, annot=True, cmap=\"YlGnBu\", fmt=\".3f\", xticklabels=labels, yticklabels=labels)\n",
    "    plt.xlabel('Predicted Class')\n",
    "    plt.ylabel('Original Class')\n",
    "    plt.show()"
   ]
  },
  {
   "cell_type": "markdown",
   "metadata": {},
   "source": [
    "## Random forest:"
   ]
  },
  {
   "cell_type": "code",
   "execution_count": 16,
   "metadata": {
    "scrolled": false
   },
   "outputs": [
    {
     "name": "stdout",
     "output_type": "stream",
     "text": [
      "train confusion and recall matrix:\n",
      "\n",
      "-------------------- Confusion matrix --------------------\n"
     ]
    },
    {
     "data": {
      "image/png": "[encoded data removed]",
      "text/plain": [
       "<Figure size 360x288 with 2 Axes>"
      ]
     },
     "metadata": {
      "needs_background": "light"
     },
     "output_type": "display_data"
    },
    {
     "name": "stdout",
     "output_type": "stream",
     "text": [
      "-------------------- Recall matrix (Row sum=1) --------------------\n"
     ]
    },
    {
     "data": {
      "image/png": "[encoded data removed]",
      "text/plain": [
       "<Figure size 360x288 with 2 Axes>"
      ]
     },
     "metadata": {
      "needs_background": "light"
     },
     "output_type": "display_data"
    },
    {
     "name": "stdout",
     "output_type": "stream",
     "text": [
      "cv confusion and recall matrix:\n",
      "\n",
      "-------------------- Confusion matrix --------------------\n"
     ]
    },
    {
     "data": {
      "image/png": "[encoded data removed]",
      "text/plain": [
       "<Figure size 360x288 with 2 Axes>"
      ]
     },
     "metadata": {
      "needs_background": "light"
     },
     "output_type": "display_data"
    },
    {
     "name": "stdout",
     "output_type": "stream",
     "text": [
      "-------------------- Recall matrix (Row sum=1) --------------------\n"
     ]
    },
    {
     "data": {
      "image/png": "[encoded data removed]",
      "text/plain": [
       "<Figure size 360x288 with 2 Axes>"
      ]
     },
     "metadata": {
      "needs_background": "light"
     },
     "output_type": "display_data"
    },
    {
     "name": "stdout",
     "output_type": "stream",
     "text": [
      "test confusion and recall matrix:\n",
      "\n",
      "-------------------- Confusion matrix --------------------\n"
     ]
    },
    {
     "data": {
      "image/png": "[encoded data removed]",
      "text/plain": [
       "<Figure size 360x288 with 2 Axes>"
      ]
     },
     "metadata": {
      "needs_background": "light"
     },
     "output_type": "display_data"
    },
    {
     "name": "stdout",
     "output_type": "stream",
     "text": [
      "-------------------- Recall matrix (Row sum=1) --------------------\n"
     ]
    },
    {
     "data": {
      "image/png": "[encoded data removed]",
      "text/plain": [
       "<Figure size 360x288 with 2 Axes>"
      ]
     },
     "metadata": {
      "needs_background": "light"
     },
     "output_type": "display_data"
    },
    {
     "name": "stdout",
     "output_type": "stream",
     "text": [
      "train AUC score: 0.9999999999999999\n",
      "cv AUC score: 0.9954760479934187\n",
      "test AUC score: 0.9956680388020488\n"
     ]
    }
   ],
   "source": [
    "clf = RandomForestClassifier(max_features='sqrt',n_jobs=-1,random_state=1)\n",
    "clf.fit(X_train[X_train.columns[0:-1]], y_train)\n",
    "print('train confusion and recall matrix:\\n')\n",
    "plot_confusion_matrix(y_train, clf.predict(X_train[X_train.columns[0:-1]]))\n",
    "print('cv confusion and recall matrix:\\n')\n",
    "plot_confusion_matrix(y_cv, clf.predict(X_cv[X_train.columns[0:-1]]))\n",
    "print('test confusion and recall matrix:\\n')\n",
    "plot_confusion_matrix(y_test, clf.predict(X_test[X_train.columns[0:-1]]))\n",
    "print('train AUC score:',roc_auc_score(y_train, clf.predict_proba(X_train[X_train.columns[0:-1]])[:,1]))\n",
    "print('cv AUC score:',roc_auc_score(y_cv, clf.predict_proba(X_cv[X_train.columns[0:-1]])[:,1]))\n",
    "print('test AUC score:',roc_auc_score(y_test, clf.predict_proba(X_test[X_train.columns[0:-1]])[:,1]))"
   ]
  },
  {
   "cell_type": "markdown",
   "metadata": {},
   "source": [
    "## Feature importance:"
   ]
  },
  {
   "cell_type": "code",
   "execution_count": 128,
   "metadata": {},
   "outputs": [],
   "source": [
    "pickle.dump(clf, open('final_model', 'wb'))"
   ]
  },
  {
   "cell_type": "code",
   "execution_count": 129,
   "metadata": {},
   "outputs": [
    {
     "data": {
      "image/png": "[encoded data removed]",
      "text/plain": [
       "<Figure size 720x864 with 1 Axes>"
      ]
     },
     "metadata": {
      "needs_background": "light"
     },
     "output_type": "display_data"
    }
   ],
   "source": [
    "features = X_train.columns[0:-1]\n",
    "importances = clf.feature_importances_\n",
    "indices = (np.argsort(importances))[-25:]\n",
    "plt.figure(figsize=(10,12))\n",
    "plt.title('Feature Importances')\n",
    "plt.barh(range(len(indices)), importances[indices], color='r', align='center')\n",
    "plt.yticks(range(len(indices)), [features[i] for i in indices])\n",
    "plt.xlabel('Relative Importance')\n",
    "plt.show()"
   ]
  },
  {
   "cell_type": "markdown",
   "metadata": {},
   "source": [
    "# Analysis of false positive in cv data:\n",
    "- we will take all samples for which we have predicted 1 and they are actually labeled as 0.\n",
    "- after that, we will create groups by date to see all why that normal value are predicted as failure."
   ]
  },
  {
   "cell_type": "code",
   "execution_count": 130,
   "metadata": {},
   "outputs": [
    {
     "name": "stdout",
     "output_type": "stream",
     "text": [
      "date of failure: [datetime.date(2018, 6, 28), datetime.date(2018, 7, 4), datetime.date(2018, 7, 8), datetime.date(2018, 7, 17)]\n"
     ]
    },
    {
     "name": "stderr",
     "output_type": "stream",
     "text": [
      "D:\\study\\anna\\lib\\site-packages\\ipykernel_launcher.py:7: SettingWithCopyWarning: \n",
      "A value is trying to be set on a copy of a slice from a DataFrame.\n",
      "Try using .loc[row_indexer,col_indexer] = value instead\n",
      "\n",
      "See the caveats in the documentation: https://pandas.pydata.org/pandas-docs/stable/user_guide/indexing.html#returning-a-view-versus-a-copy\n",
      "  import sys\n"
     ]
    }
   ],
   "source": [
    "d=pd.DataFrame() #temp dataframe\n",
    "d['time']=X_cv['timestamp']\n",
    "d['true']=y_cv\n",
    "d['pred']=clf.predict(X_cv[X_train.columns[0:-1]])\n",
    "a=d[d['true']==0]\n",
    "x=a[a['pred']==1]\n",
    "x['time']=pd.to_datetime(x['time'])\n",
    "g=x.groupby(by=x['time'].dt.date)\n",
    "print('date of failure:',list(g.groups.keys())) "
   ]
  },
  {
   "cell_type": "code",
   "execution_count": 131,
   "metadata": {},
   "outputs": [
    {
     "name": "stdout",
     "output_type": "stream",
     "text": [
      "all FP points of date: 2018-06-28\n"
     ]
    },
    {
     "data": {
      "text/html": [
       "<div>\n",
       "<style scoped>\n",
       "    .dataframe tbody tr th:only-of-type {\n",
       "        vertical-align: middle;\n",
       "    }\n",
       "\n",
       "    .dataframe tbody tr th {\n",
       "        vertical-align: top;\n",
       "    }\n",
       "\n",
       "    .dataframe thead th {\n",
       "        text-align: right;\n",
       "    }\n",
       "</style>\n",
       "<table border=\"1\" class=\"dataframe\">\n",
       "  <thead>\n",
       "    <tr style=\"text-align: right;\">\n",
       "      <th></th>\n",
       "      <th>time</th>\n",
       "      <th>true</th>\n",
       "      <th>pred</th>\n",
       "    </tr>\n",
       "  </thead>\n",
       "  <tbody>\n",
       "    <tr>\n",
       "      <th>127691</th>\n",
       "      <td>2018-06-28 16:12:00</td>\n",
       "      <td>0.0</td>\n",
       "      <td>1.0</td>\n",
       "    </tr>\n",
       "    <tr>\n",
       "      <th>127693</th>\n",
       "      <td>2018-06-28 16:14:00</td>\n",
       "      <td>0.0</td>\n",
       "      <td>1.0</td>\n",
       "    </tr>\n",
       "    <tr>\n",
       "      <th>127694</th>\n",
       "      <td>2018-06-28 16:15:00</td>\n",
       "      <td>0.0</td>\n",
       "      <td>1.0</td>\n",
       "    </tr>\n",
       "    <tr>\n",
       "      <th>127695</th>\n",
       "      <td>2018-06-28 16:16:00</td>\n",
       "      <td>0.0</td>\n",
       "      <td>1.0</td>\n",
       "    </tr>\n",
       "    <tr>\n",
       "      <th>127696</th>\n",
       "      <td>2018-06-28 16:17:00</td>\n",
       "      <td>0.0</td>\n",
       "      <td>1.0</td>\n",
       "    </tr>\n",
       "    <tr>\n",
       "      <th>...</th>\n",
       "      <td>...</td>\n",
       "      <td>...</td>\n",
       "      <td>...</td>\n",
       "    </tr>\n",
       "    <tr>\n",
       "      <th>128015</th>\n",
       "      <td>2018-06-28 21:36:00</td>\n",
       "      <td>0.0</td>\n",
       "      <td>1.0</td>\n",
       "    </tr>\n",
       "    <tr>\n",
       "      <th>128016</th>\n",
       "      <td>2018-06-28 21:37:00</td>\n",
       "      <td>0.0</td>\n",
       "      <td>1.0</td>\n",
       "    </tr>\n",
       "    <tr>\n",
       "      <th>128017</th>\n",
       "      <td>2018-06-28 21:38:00</td>\n",
       "      <td>0.0</td>\n",
       "      <td>1.0</td>\n",
       "    </tr>\n",
       "    <tr>\n",
       "      <th>128018</th>\n",
       "      <td>2018-06-28 21:39:00</td>\n",
       "      <td>0.0</td>\n",
       "      <td>1.0</td>\n",
       "    </tr>\n",
       "    <tr>\n",
       "      <th>128019</th>\n",
       "      <td>2018-06-28 21:40:00</td>\n",
       "      <td>0.0</td>\n",
       "      <td>1.0</td>\n",
       "    </tr>\n",
       "  </tbody>\n",
       "</table>\n",
       "<p>242 rows × 3 columns</p>\n",
       "</div>"
      ],
      "text/plain": [
       "                      time  true  pred\n",
       "127691 2018-06-28 16:12:00   0.0   1.0\n",
       "127693 2018-06-28 16:14:00   0.0   1.0\n",
       "127694 2018-06-28 16:15:00   0.0   1.0\n",
       "127695 2018-06-28 16:16:00   0.0   1.0\n",
       "127696 2018-06-28 16:17:00   0.0   1.0\n",
       "...                    ...   ...   ...\n",
       "128015 2018-06-28 21:36:00   0.0   1.0\n",
       "128016 2018-06-28 21:37:00   0.0   1.0\n",
       "128017 2018-06-28 21:38:00   0.0   1.0\n",
       "128018 2018-06-28 21:39:00   0.0   1.0\n",
       "128019 2018-06-28 21:40:00   0.0   1.0\n",
       "\n",
       "[242 rows x 3 columns]"
      ]
     },
     "execution_count": 131,
     "metadata": {},
     "output_type": "execute_result"
    }
   ],
   "source": [
    "print('all FP points of date:',list(g.groups.keys())[0])\n",
    "g.get_group(list(g.groups.keys())[0])"
   ]
  },
  {
   "cell_type": "markdown",
   "metadata": {},
   "source": [
    "- We have a failure on date 2018-06-28 at time 22:00:00 so it should get predicted at time 21:55:00. but we can see our model started giving warning of failure from 16:12:00, which means approx 6 hours before.\n",
    "- this failure takes the highest time to recover among all failures, hence the cause of this failure might different from others, and due to this, we get  warnings before 6 hours."
   ]
  },
  {
   "cell_type": "code",
   "execution_count": 132,
   "metadata": {},
   "outputs": [
    {
     "name": "stdout",
     "output_type": "stream",
     "text": [
      "all FP points of date: 2018-07-04\n"
     ]
    },
    {
     "data": {
      "text/html": [
       "<div>\n",
       "<style scoped>\n",
       "    .dataframe tbody tr th:only-of-type {\n",
       "        vertical-align: middle;\n",
       "    }\n",
       "\n",
       "    .dataframe tbody tr th {\n",
       "        vertical-align: top;\n",
       "    }\n",
       "\n",
       "    .dataframe thead th {\n",
       "        text-align: right;\n",
       "    }\n",
       "</style>\n",
       "<table border=\"1\" class=\"dataframe\">\n",
       "  <thead>\n",
       "    <tr style=\"text-align: right;\">\n",
       "      <th></th>\n",
       "      <th>time</th>\n",
       "      <th>true</th>\n",
       "      <th>pred</th>\n",
       "    </tr>\n",
       "  </thead>\n",
       "  <tbody>\n",
       "    <tr>\n",
       "      <th>136420</th>\n",
       "      <td>2018-07-04 17:41:00</td>\n",
       "      <td>0.0</td>\n",
       "      <td>1.0</td>\n",
       "    </tr>\n",
       "    <tr>\n",
       "      <th>136421</th>\n",
       "      <td>2018-07-04 17:42:00</td>\n",
       "      <td>0.0</td>\n",
       "      <td>1.0</td>\n",
       "    </tr>\n",
       "    <tr>\n",
       "      <th>136422</th>\n",
       "      <td>2018-07-04 17:43:00</td>\n",
       "      <td>0.0</td>\n",
       "      <td>1.0</td>\n",
       "    </tr>\n",
       "    <tr>\n",
       "      <th>136423</th>\n",
       "      <td>2018-07-04 17:44:00</td>\n",
       "      <td>0.0</td>\n",
       "      <td>1.0</td>\n",
       "    </tr>\n",
       "    <tr>\n",
       "      <th>136424</th>\n",
       "      <td>2018-07-04 17:45:00</td>\n",
       "      <td>0.0</td>\n",
       "      <td>1.0</td>\n",
       "    </tr>\n",
       "    <tr>\n",
       "      <th>...</th>\n",
       "      <td>...</td>\n",
       "      <td>...</td>\n",
       "      <td>...</td>\n",
       "    </tr>\n",
       "    <tr>\n",
       "      <th>136492</th>\n",
       "      <td>2018-07-04 18:53:00</td>\n",
       "      <td>0.0</td>\n",
       "      <td>1.0</td>\n",
       "    </tr>\n",
       "    <tr>\n",
       "      <th>136493</th>\n",
       "      <td>2018-07-04 18:54:00</td>\n",
       "      <td>0.0</td>\n",
       "      <td>1.0</td>\n",
       "    </tr>\n",
       "    <tr>\n",
       "      <th>136494</th>\n",
       "      <td>2018-07-04 18:55:00</td>\n",
       "      <td>0.0</td>\n",
       "      <td>1.0</td>\n",
       "    </tr>\n",
       "    <tr>\n",
       "      <th>136495</th>\n",
       "      <td>2018-07-04 18:56:00</td>\n",
       "      <td>0.0</td>\n",
       "      <td>1.0</td>\n",
       "    </tr>\n",
       "    <tr>\n",
       "      <th>136496</th>\n",
       "      <td>2018-07-04 18:57:00</td>\n",
       "      <td>0.0</td>\n",
       "      <td>1.0</td>\n",
       "    </tr>\n",
       "  </tbody>\n",
       "</table>\n",
       "<p>76 rows × 3 columns</p>\n",
       "</div>"
      ],
      "text/plain": [
       "                      time  true  pred\n",
       "136420 2018-07-04 17:41:00   0.0   1.0\n",
       "136421 2018-07-04 17:42:00   0.0   1.0\n",
       "136422 2018-07-04 17:43:00   0.0   1.0\n",
       "136423 2018-07-04 17:44:00   0.0   1.0\n",
       "136424 2018-07-04 17:45:00   0.0   1.0\n",
       "...                    ...   ...   ...\n",
       "136492 2018-07-04 18:53:00   0.0   1.0\n",
       "136493 2018-07-04 18:54:00   0.0   1.0\n",
       "136494 2018-07-04 18:55:00   0.0   1.0\n",
       "136495 2018-07-04 18:56:00   0.0   1.0\n",
       "136496 2018-07-04 18:57:00   0.0   1.0\n",
       "\n",
       "[76 rows x 3 columns]"
      ]
     },
     "execution_count": 132,
     "metadata": {},
     "output_type": "execute_result"
    }
   ],
   "source": [
    "print('all FP points of date:',list(g.groups.keys())[1])\n",
    "g.get_group(list(g.groups.keys())[1])"
   ]
  },
  {
   "cell_type": "markdown",
   "metadata": {},
   "source": [
    "- a failure on 2018-06-28 took 6 days to recover, which means it recovers on date 2018-07-04.\n",
    "- let we have window W4547, machine status in this window is 'RECOVERING'. next to next window W4549, our machine is recovered and now the status is 'NORMAL'.\n",
    "- we are using W4547 to predict machine status at window W4549, how can we expect  from the data of recovering machine to give a prediction of the next normal state.\n",
    "- here when the machine is in failure condition, it unable to predict the next normal state, which is totally fine because when the machine is in failure we don't care about the prediction of the machine's next state.\n",
    "- these false positive points are not a bad prediction of our model."
   ]
  },
  {
   "cell_type": "code",
   "execution_count": 133,
   "metadata": {},
   "outputs": [
    {
     "name": "stdout",
     "output_type": "stream",
     "text": [
      "all FP points of date: 2018-07-08\n"
     ]
    },
    {
     "data": {
      "text/html": [
       "<div>\n",
       "<style scoped>\n",
       "    .dataframe tbody tr th:only-of-type {\n",
       "        vertical-align: middle;\n",
       "    }\n",
       "\n",
       "    .dataframe tbody tr th {\n",
       "        vertical-align: top;\n",
       "    }\n",
       "\n",
       "    .dataframe thead th {\n",
       "        text-align: right;\n",
       "    }\n",
       "</style>\n",
       "<table border=\"1\" class=\"dataframe\">\n",
       "  <thead>\n",
       "    <tr style=\"text-align: right;\">\n",
       "      <th></th>\n",
       "      <th>time</th>\n",
       "      <th>true</th>\n",
       "      <th>pred</th>\n",
       "    </tr>\n",
       "  </thead>\n",
       "  <tbody>\n",
       "    <tr>\n",
       "      <th>141162</th>\n",
       "      <td>2018-07-08 00:43:00</td>\n",
       "      <td>0.0</td>\n",
       "      <td>1.0</td>\n",
       "    </tr>\n",
       "    <tr>\n",
       "      <th>141163</th>\n",
       "      <td>2018-07-08 00:44:00</td>\n",
       "      <td>0.0</td>\n",
       "      <td>1.0</td>\n",
       "    </tr>\n",
       "    <tr>\n",
       "      <th>141164</th>\n",
       "      <td>2018-07-08 00:45:00</td>\n",
       "      <td>0.0</td>\n",
       "      <td>1.0</td>\n",
       "    </tr>\n",
       "    <tr>\n",
       "      <th>141165</th>\n",
       "      <td>2018-07-08 00:46:00</td>\n",
       "      <td>0.0</td>\n",
       "      <td>1.0</td>\n",
       "    </tr>\n",
       "    <tr>\n",
       "      <th>141166</th>\n",
       "      <td>2018-07-08 00:47:00</td>\n",
       "      <td>0.0</td>\n",
       "      <td>1.0</td>\n",
       "    </tr>\n",
       "    <tr>\n",
       "      <th>141167</th>\n",
       "      <td>2018-07-08 00:48:00</td>\n",
       "      <td>0.0</td>\n",
       "      <td>1.0</td>\n",
       "    </tr>\n",
       "    <tr>\n",
       "      <th>141168</th>\n",
       "      <td>2018-07-08 00:49:00</td>\n",
       "      <td>0.0</td>\n",
       "      <td>1.0</td>\n",
       "    </tr>\n",
       "    <tr>\n",
       "      <th>141169</th>\n",
       "      <td>2018-07-08 00:50:00</td>\n",
       "      <td>0.0</td>\n",
       "      <td>1.0</td>\n",
       "    </tr>\n",
       "    <tr>\n",
       "      <th>141170</th>\n",
       "      <td>2018-07-08 00:51:00</td>\n",
       "      <td>0.0</td>\n",
       "      <td>1.0</td>\n",
       "    </tr>\n",
       "    <tr>\n",
       "      <th>141171</th>\n",
       "      <td>2018-07-08 00:52:00</td>\n",
       "      <td>0.0</td>\n",
       "      <td>1.0</td>\n",
       "    </tr>\n",
       "    <tr>\n",
       "      <th>141172</th>\n",
       "      <td>2018-07-08 00:53:00</td>\n",
       "      <td>0.0</td>\n",
       "      <td>1.0</td>\n",
       "    </tr>\n",
       "    <tr>\n",
       "      <th>141173</th>\n",
       "      <td>2018-07-08 00:54:00</td>\n",
       "      <td>0.0</td>\n",
       "      <td>1.0</td>\n",
       "    </tr>\n",
       "    <tr>\n",
       "      <th>141174</th>\n",
       "      <td>2018-07-08 00:55:00</td>\n",
       "      <td>0.0</td>\n",
       "      <td>1.0</td>\n",
       "    </tr>\n",
       "    <tr>\n",
       "      <th>141175</th>\n",
       "      <td>2018-07-08 00:56:00</td>\n",
       "      <td>0.0</td>\n",
       "      <td>1.0</td>\n",
       "    </tr>\n",
       "    <tr>\n",
       "      <th>141176</th>\n",
       "      <td>2018-07-08 00:57:00</td>\n",
       "      <td>0.0</td>\n",
       "      <td>1.0</td>\n",
       "    </tr>\n",
       "    <tr>\n",
       "      <th>141177</th>\n",
       "      <td>2018-07-08 00:58:00</td>\n",
       "      <td>0.0</td>\n",
       "      <td>1.0</td>\n",
       "    </tr>\n",
       "    <tr>\n",
       "      <th>141178</th>\n",
       "      <td>2018-07-08 00:59:00</td>\n",
       "      <td>0.0</td>\n",
       "      <td>1.0</td>\n",
       "    </tr>\n",
       "    <tr>\n",
       "      <th>141179</th>\n",
       "      <td>2018-07-08 01:00:00</td>\n",
       "      <td>0.0</td>\n",
       "      <td>1.0</td>\n",
       "    </tr>\n",
       "    <tr>\n",
       "      <th>141180</th>\n",
       "      <td>2018-07-08 01:01:00</td>\n",
       "      <td>0.0</td>\n",
       "      <td>1.0</td>\n",
       "    </tr>\n",
       "    <tr>\n",
       "      <th>141181</th>\n",
       "      <td>2018-07-08 01:02:00</td>\n",
       "      <td>0.0</td>\n",
       "      <td>1.0</td>\n",
       "    </tr>\n",
       "  </tbody>\n",
       "</table>\n",
       "</div>"
      ],
      "text/plain": [
       "                      time  true  pred\n",
       "141162 2018-07-08 00:43:00   0.0   1.0\n",
       "141163 2018-07-08 00:44:00   0.0   1.0\n",
       "141164 2018-07-08 00:45:00   0.0   1.0\n",
       "141165 2018-07-08 00:46:00   0.0   1.0\n",
       "141166 2018-07-08 00:47:00   0.0   1.0\n",
       "141167 2018-07-08 00:48:00   0.0   1.0\n",
       "141168 2018-07-08 00:49:00   0.0   1.0\n",
       "141169 2018-07-08 00:50:00   0.0   1.0\n",
       "141170 2018-07-08 00:51:00   0.0   1.0\n",
       "141171 2018-07-08 00:52:00   0.0   1.0\n",
       "141172 2018-07-08 00:53:00   0.0   1.0\n",
       "141173 2018-07-08 00:54:00   0.0   1.0\n",
       "141174 2018-07-08 00:55:00   0.0   1.0\n",
       "141175 2018-07-08 00:56:00   0.0   1.0\n",
       "141176 2018-07-08 00:57:00   0.0   1.0\n",
       "141177 2018-07-08 00:58:00   0.0   1.0\n",
       "141178 2018-07-08 00:59:00   0.0   1.0\n",
       "141179 2018-07-08 01:00:00   0.0   1.0\n",
       "141180 2018-07-08 01:01:00   0.0   1.0\n",
       "141181 2018-07-08 01:02:00   0.0   1.0"
      ]
     },
     "execution_count": 133,
     "metadata": {},
     "output_type": "execute_result"
    }
   ],
   "source": [
    "print('all FP points of date:',list(g.groups.keys())[2])\n",
    "g.get_group(list(g.groups.keys())[2])"
   ]
  },
  {
   "cell_type": "markdown",
   "metadata": {},
   "source": [
    "- here also the condition is the same as above.\n",
    "- we have a failure at 00:11:00 on date 2018-07-08, which gets recovered in 40 minutes.\n",
    "- here also in recovering state our model unable to predict the next normal statue which is ok."
   ]
  },
  {
   "cell_type": "code",
   "execution_count": 134,
   "metadata": {},
   "outputs": [
    {
     "name": "stdout",
     "output_type": "stream",
     "text": [
      "all FP points of date: 2018-07-17\n"
     ]
    },
    {
     "data": {
      "text/html": [
       "<div>\n",
       "<style scoped>\n",
       "    .dataframe tbody tr th:only-of-type {\n",
       "        vertical-align: middle;\n",
       "    }\n",
       "\n",
       "    .dataframe tbody tr th {\n",
       "        vertical-align: top;\n",
       "    }\n",
       "\n",
       "    .dataframe thead th {\n",
       "        text-align: right;\n",
       "    }\n",
       "</style>\n",
       "<table border=\"1\" class=\"dataframe\">\n",
       "  <thead>\n",
       "    <tr style=\"text-align: right;\">\n",
       "      <th></th>\n",
       "      <th>time</th>\n",
       "      <th>true</th>\n",
       "      <th>pred</th>\n",
       "    </tr>\n",
       "  </thead>\n",
       "  <tbody>\n",
       "    <tr>\n",
       "      <th>155007</th>\n",
       "      <td>2018-07-17 15:28:00</td>\n",
       "      <td>0.0</td>\n",
       "      <td>1.0</td>\n",
       "    </tr>\n",
       "    <tr>\n",
       "      <th>155008</th>\n",
       "      <td>2018-07-17 15:29:00</td>\n",
       "      <td>0.0</td>\n",
       "      <td>1.0</td>\n",
       "    </tr>\n",
       "    <tr>\n",
       "      <th>155009</th>\n",
       "      <td>2018-07-17 15:30:00</td>\n",
       "      <td>0.0</td>\n",
       "      <td>1.0</td>\n",
       "    </tr>\n",
       "    <tr>\n",
       "      <th>155010</th>\n",
       "      <td>2018-07-17 15:31:00</td>\n",
       "      <td>0.0</td>\n",
       "      <td>1.0</td>\n",
       "    </tr>\n",
       "    <tr>\n",
       "      <th>155011</th>\n",
       "      <td>2018-07-17 15:32:00</td>\n",
       "      <td>0.0</td>\n",
       "      <td>1.0</td>\n",
       "    </tr>\n",
       "    <tr>\n",
       "      <th>155012</th>\n",
       "      <td>2018-07-17 15:33:00</td>\n",
       "      <td>0.0</td>\n",
       "      <td>1.0</td>\n",
       "    </tr>\n",
       "    <tr>\n",
       "      <th>155013</th>\n",
       "      <td>2018-07-17 15:34:00</td>\n",
       "      <td>0.0</td>\n",
       "      <td>1.0</td>\n",
       "    </tr>\n",
       "    <tr>\n",
       "      <th>155014</th>\n",
       "      <td>2018-07-17 15:35:00</td>\n",
       "      <td>0.0</td>\n",
       "      <td>1.0</td>\n",
       "    </tr>\n",
       "    <tr>\n",
       "      <th>155015</th>\n",
       "      <td>2018-07-17 15:36:00</td>\n",
       "      <td>0.0</td>\n",
       "      <td>1.0</td>\n",
       "    </tr>\n",
       "    <tr>\n",
       "      <th>155016</th>\n",
       "      <td>2018-07-17 15:37:00</td>\n",
       "      <td>0.0</td>\n",
       "      <td>1.0</td>\n",
       "    </tr>\n",
       "    <tr>\n",
       "      <th>155017</th>\n",
       "      <td>2018-07-17 15:38:00</td>\n",
       "      <td>0.0</td>\n",
       "      <td>1.0</td>\n",
       "    </tr>\n",
       "    <tr>\n",
       "      <th>155176</th>\n",
       "      <td>2018-07-17 18:17:00</td>\n",
       "      <td>0.0</td>\n",
       "      <td>1.0</td>\n",
       "    </tr>\n",
       "    <tr>\n",
       "      <th>155177</th>\n",
       "      <td>2018-07-17 18:18:00</td>\n",
       "      <td>0.0</td>\n",
       "      <td>1.0</td>\n",
       "    </tr>\n",
       "    <tr>\n",
       "      <th>155178</th>\n",
       "      <td>2018-07-17 18:19:00</td>\n",
       "      <td>0.0</td>\n",
       "      <td>1.0</td>\n",
       "    </tr>\n",
       "  </tbody>\n",
       "</table>\n",
       "</div>"
      ],
      "text/plain": [
       "                      time  true  pred\n",
       "155007 2018-07-17 15:28:00   0.0   1.0\n",
       "155008 2018-07-17 15:29:00   0.0   1.0\n",
       "155009 2018-07-17 15:30:00   0.0   1.0\n",
       "155010 2018-07-17 15:31:00   0.0   1.0\n",
       "155011 2018-07-17 15:32:00   0.0   1.0\n",
       "155012 2018-07-17 15:33:00   0.0   1.0\n",
       "155013 2018-07-17 15:34:00   0.0   1.0\n",
       "155014 2018-07-17 15:35:00   0.0   1.0\n",
       "155015 2018-07-17 15:36:00   0.0   1.0\n",
       "155016 2018-07-17 15:37:00   0.0   1.0\n",
       "155017 2018-07-17 15:38:00   0.0   1.0\n",
       "155176 2018-07-17 18:17:00   0.0   1.0\n",
       "155177 2018-07-17 18:18:00   0.0   1.0\n",
       "155178 2018-07-17 18:19:00   0.0   1.0"
      ]
     },
     "execution_count": 134,
     "metadata": {},
     "output_type": "execute_result"
    }
   ],
   "source": [
    "print('all FP points of date:',list(g.groups.keys())[3])\n",
    "g.get_group(list(g.groups.keys())[3])"
   ]
  },
  {
   "cell_type": "markdown",
   "metadata": {},
   "source": [
    "- we don't have any reason to justify these false positive points. these all points are actual false positive points."
   ]
  },
  {
   "cell_type": "markdown",
   "metadata": {},
   "source": [
    "# Analysis of false negative in cv data:"
   ]
  },
  {
   "cell_type": "code",
   "execution_count": 135,
   "metadata": {},
   "outputs": [
    {
     "name": "stdout",
     "output_type": "stream",
     "text": [
      "date of failure: [datetime.date(2018, 7, 7), datetime.date(2018, 7, 8)]\n"
     ]
    },
    {
     "name": "stderr",
     "output_type": "stream",
     "text": [
      "D:\\study\\anna\\lib\\site-packages\\ipykernel_launcher.py:7: SettingWithCopyWarning: \n",
      "A value is trying to be set on a copy of a slice from a DataFrame.\n",
      "Try using .loc[row_indexer,col_indexer] = value instead\n",
      "\n",
      "See the caveats in the documentation: https://pandas.pydata.org/pandas-docs/stable/user_guide/indexing.html#returning-a-view-versus-a-copy\n",
      "  import sys\n"
     ]
    }
   ],
   "source": [
    "d=pd.DataFrame() #temp dataframe\n",
    "d['time']=X_cv['timestamp']\n",
    "d['true']=y_cv\n",
    "d['pred']=clf.predict(X_cv[X_train.columns[0:-1]])\n",
    "a=d[d['true']==1]\n",
    "x=a[a['pred']==0]\n",
    "x['time']=pd.to_datetime(x['time'])\n",
    "g=x.groupby(by=x['time'].dt.date)\n",
    "print('date of failure:',list(g.groups.keys())) \n"
   ]
  },
  {
   "cell_type": "code",
   "execution_count": 136,
   "metadata": {},
   "outputs": [
    {
     "name": "stdout",
     "output_type": "stream",
     "text": [
      "all FN points of date: 2018-07-07\n"
     ]
    },
    {
     "data": {
      "text/html": [
       "<div>\n",
       "<style scoped>\n",
       "    .dataframe tbody tr th:only-of-type {\n",
       "        vertical-align: middle;\n",
       "    }\n",
       "\n",
       "    .dataframe tbody tr th {\n",
       "        vertical-align: top;\n",
       "    }\n",
       "\n",
       "    .dataframe thead th {\n",
       "        text-align: right;\n",
       "    }\n",
       "</style>\n",
       "<table border=\"1\" class=\"dataframe\">\n",
       "  <thead>\n",
       "    <tr style=\"text-align: right;\">\n",
       "      <th></th>\n",
       "      <th>time</th>\n",
       "      <th>true</th>\n",
       "      <th>pred</th>\n",
       "    </tr>\n",
       "  </thead>\n",
       "  <tbody>\n",
       "    <tr>\n",
       "      <th>141111</th>\n",
       "      <td>2018-07-07 23:52:00</td>\n",
       "      <td>1.0</td>\n",
       "      <td>0.0</td>\n",
       "    </tr>\n",
       "    <tr>\n",
       "      <th>141112</th>\n",
       "      <td>2018-07-07 23:53:00</td>\n",
       "      <td>1.0</td>\n",
       "      <td>0.0</td>\n",
       "    </tr>\n",
       "    <tr>\n",
       "      <th>141113</th>\n",
       "      <td>2018-07-07 23:54:00</td>\n",
       "      <td>1.0</td>\n",
       "      <td>0.0</td>\n",
       "    </tr>\n",
       "    <tr>\n",
       "      <th>141114</th>\n",
       "      <td>2018-07-07 23:55:00</td>\n",
       "      <td>1.0</td>\n",
       "      <td>0.0</td>\n",
       "    </tr>\n",
       "    <tr>\n",
       "      <th>141115</th>\n",
       "      <td>2018-07-07 23:56:00</td>\n",
       "      <td>1.0</td>\n",
       "      <td>0.0</td>\n",
       "    </tr>\n",
       "    <tr>\n",
       "      <th>141116</th>\n",
       "      <td>2018-07-07 23:57:00</td>\n",
       "      <td>1.0</td>\n",
       "      <td>0.0</td>\n",
       "    </tr>\n",
       "    <tr>\n",
       "      <th>141117</th>\n",
       "      <td>2018-07-07 23:58:00</td>\n",
       "      <td>1.0</td>\n",
       "      <td>0.0</td>\n",
       "    </tr>\n",
       "    <tr>\n",
       "      <th>141118</th>\n",
       "      <td>2018-07-07 23:59:00</td>\n",
       "      <td>1.0</td>\n",
       "      <td>0.0</td>\n",
       "    </tr>\n",
       "  </tbody>\n",
       "</table>\n",
       "</div>"
      ],
      "text/plain": [
       "                      time  true  pred\n",
       "141111 2018-07-07 23:52:00   1.0   0.0\n",
       "141112 2018-07-07 23:53:00   1.0   0.0\n",
       "141113 2018-07-07 23:54:00   1.0   0.0\n",
       "141114 2018-07-07 23:55:00   1.0   0.0\n",
       "141115 2018-07-07 23:56:00   1.0   0.0\n",
       "141116 2018-07-07 23:57:00   1.0   0.0\n",
       "141117 2018-07-07 23:58:00   1.0   0.0\n",
       "141118 2018-07-07 23:59:00   1.0   0.0"
      ]
     },
     "execution_count": 136,
     "metadata": {},
     "output_type": "execute_result"
    }
   ],
   "source": [
    "print('all FN points of date:',list(g.groups.keys())[0])\n",
    "g.get_group(list(g.groups.keys())[0])"
   ]
  },
  {
   "cell_type": "markdown",
   "metadata": {},
   "source": [
    "- we have a failure at 2018-07-08 00:11:00, it should get predicted before 2018-07-08 00:06:00.\n",
    "- we have machine status normal till 2018-07-07 23:59:00, we are not expecting from model to predict failure in this time.hence these false negative are not reducing our model's performance score."
   ]
  },
  {
   "cell_type": "code",
   "execution_count": 137,
   "metadata": {},
   "outputs": [
    {
     "name": "stdout",
     "output_type": "stream",
     "text": [
      "all FN points of date: 2018-07-08\n"
     ]
    },
    {
     "data": {
      "text/html": [
       "<div>\n",
       "<style scoped>\n",
       "    .dataframe tbody tr th:only-of-type {\n",
       "        vertical-align: middle;\n",
       "    }\n",
       "\n",
       "    .dataframe tbody tr th {\n",
       "        vertical-align: top;\n",
       "    }\n",
       "\n",
       "    .dataframe thead th {\n",
       "        text-align: right;\n",
       "    }\n",
       "</style>\n",
       "<table border=\"1\" class=\"dataframe\">\n",
       "  <thead>\n",
       "    <tr style=\"text-align: right;\">\n",
       "      <th></th>\n",
       "      <th>time</th>\n",
       "      <th>true</th>\n",
       "      <th>pred</th>\n",
       "    </tr>\n",
       "  </thead>\n",
       "  <tbody>\n",
       "    <tr>\n",
       "      <th>141119</th>\n",
       "      <td>2018-07-08 00:00:00</td>\n",
       "      <td>1.0</td>\n",
       "      <td>0.0</td>\n",
       "    </tr>\n",
       "    <tr>\n",
       "      <th>141120</th>\n",
       "      <td>2018-07-08 00:01:00</td>\n",
       "      <td>1.0</td>\n",
       "      <td>0.0</td>\n",
       "    </tr>\n",
       "    <tr>\n",
       "      <th>141121</th>\n",
       "      <td>2018-07-08 00:02:00</td>\n",
       "      <td>1.0</td>\n",
       "      <td>0.0</td>\n",
       "    </tr>\n",
       "    <tr>\n",
       "      <th>141122</th>\n",
       "      <td>2018-07-08 00:03:00</td>\n",
       "      <td>1.0</td>\n",
       "      <td>0.0</td>\n",
       "    </tr>\n",
       "    <tr>\n",
       "      <th>141123</th>\n",
       "      <td>2018-07-08 00:04:00</td>\n",
       "      <td>1.0</td>\n",
       "      <td>0.0</td>\n",
       "    </tr>\n",
       "    <tr>\n",
       "      <th>141155</th>\n",
       "      <td>2018-07-08 00:36:00</td>\n",
       "      <td>1.0</td>\n",
       "      <td>0.0</td>\n",
       "    </tr>\n",
       "    <tr>\n",
       "      <th>141156</th>\n",
       "      <td>2018-07-08 00:37:00</td>\n",
       "      <td>1.0</td>\n",
       "      <td>0.0</td>\n",
       "    </tr>\n",
       "    <tr>\n",
       "      <th>141157</th>\n",
       "      <td>2018-07-08 00:38:00</td>\n",
       "      <td>1.0</td>\n",
       "      <td>0.0</td>\n",
       "    </tr>\n",
       "    <tr>\n",
       "      <th>141158</th>\n",
       "      <td>2018-07-08 00:39:00</td>\n",
       "      <td>1.0</td>\n",
       "      <td>0.0</td>\n",
       "    </tr>\n",
       "    <tr>\n",
       "      <th>141159</th>\n",
       "      <td>2018-07-08 00:40:00</td>\n",
       "      <td>1.0</td>\n",
       "      <td>0.0</td>\n",
       "    </tr>\n",
       "    <tr>\n",
       "      <th>141160</th>\n",
       "      <td>2018-07-08 00:41:00</td>\n",
       "      <td>1.0</td>\n",
       "      <td>0.0</td>\n",
       "    </tr>\n",
       "  </tbody>\n",
       "</table>\n",
       "</div>"
      ],
      "text/plain": [
       "                      time  true  pred\n",
       "141119 2018-07-08 00:00:00   1.0   0.0\n",
       "141120 2018-07-08 00:01:00   1.0   0.0\n",
       "141121 2018-07-08 00:02:00   1.0   0.0\n",
       "141122 2018-07-08 00:03:00   1.0   0.0\n",
       "141123 2018-07-08 00:04:00   1.0   0.0\n",
       "141155 2018-07-08 00:36:00   1.0   0.0\n",
       "141156 2018-07-08 00:37:00   1.0   0.0\n",
       "141157 2018-07-08 00:38:00   1.0   0.0\n",
       "141158 2018-07-08 00:39:00   1.0   0.0\n",
       "141159 2018-07-08 00:40:00   1.0   0.0\n",
       "141160 2018-07-08 00:41:00   1.0   0.0"
      ]
     },
     "execution_count": 137,
     "metadata": {},
     "output_type": "execute_result"
    }
   ],
   "source": [
    "print('all FN points of date:',list(g.groups.keys())[1])\n",
    "g.get_group(list(g.groups.keys())[1])"
   ]
  },
  {
   "cell_type": "markdown",
   "metadata": {},
   "source": [
    "- we have a failure at 2018-07-08 00:11:00, we are predicting this failure 5 minutes before hence this 1st 5 false-negative doesn't matter.\n",
    "- our model was in a recovering state after this failure till 00:52:00, in recovering state whichever status of our machine is predicted, we don't care about it."
   ]
  },
  {
   "cell_type": "markdown",
   "metadata": {},
   "source": [
    "# Analysis of false positive in test data:"
   ]
  },
  {
   "cell_type": "code",
   "execution_count": 138,
   "metadata": {},
   "outputs": [
    {
     "name": "stdout",
     "output_type": "stream",
     "text": [
      "date of failure: [datetime.date(2018, 7, 25), datetime.date(2018, 8, 14), datetime.date(2018, 8, 21)]\n"
     ]
    },
    {
     "name": "stderr",
     "output_type": "stream",
     "text": [
      "D:\\study\\anna\\lib\\site-packages\\ipykernel_launcher.py:7: SettingWithCopyWarning: \n",
      "A value is trying to be set on a copy of a slice from a DataFrame.\n",
      "Try using .loc[row_indexer,col_indexer] = value instead\n",
      "\n",
      "See the caveats in the documentation: https://pandas.pydata.org/pandas-docs/stable/user_guide/indexing.html#returning-a-view-versus-a-copy\n",
      "  import sys\n"
     ]
    }
   ],
   "source": [
    "d=pd.DataFrame() #temp dataframe\n",
    "d['time']=X_test['timestamp']\n",
    "d['true']=y_test\n",
    "d['pred']=clf.predict(X_test[X_train.columns[0:-1]])\n",
    "a=d[d['true']==0]\n",
    "x=a[a['pred']==1]\n",
    "x['time']=pd.to_datetime(x['time'])\n",
    "g=x.groupby(by=x['time'].dt.date)\n",
    "print('date of failure:',list(g.groups.keys())) \n"
   ]
  },
  {
   "cell_type": "code",
   "execution_count": 139,
   "metadata": {},
   "outputs": [
    {
     "name": "stdout",
     "output_type": "stream",
     "text": [
      "all FP points of date: 2018-07-25\n"
     ]
    },
    {
     "data": {
      "text/html": [
       "<div>\n",
       "<style scoped>\n",
       "    .dataframe tbody tr th:only-of-type {\n",
       "        vertical-align: middle;\n",
       "    }\n",
       "\n",
       "    .dataframe tbody tr th {\n",
       "        vertical-align: top;\n",
       "    }\n",
       "\n",
       "    .dataframe thead th {\n",
       "        text-align: right;\n",
       "    }\n",
       "</style>\n",
       "<table border=\"1\" class=\"dataframe\">\n",
       "  <thead>\n",
       "    <tr style=\"text-align: right;\">\n",
       "      <th></th>\n",
       "      <th>time</th>\n",
       "      <th>true</th>\n",
       "      <th>pred</th>\n",
       "    </tr>\n",
       "  </thead>\n",
       "  <tbody>\n",
       "    <tr>\n",
       "      <th>166505</th>\n",
       "      <td>2018-07-25 15:06:00</td>\n",
       "      <td>0.0</td>\n",
       "      <td>1.0</td>\n",
       "    </tr>\n",
       "    <tr>\n",
       "      <th>166506</th>\n",
       "      <td>2018-07-25 15:07:00</td>\n",
       "      <td>0.0</td>\n",
       "      <td>1.0</td>\n",
       "    </tr>\n",
       "    <tr>\n",
       "      <th>166507</th>\n",
       "      <td>2018-07-25 15:08:00</td>\n",
       "      <td>0.0</td>\n",
       "      <td>1.0</td>\n",
       "    </tr>\n",
       "    <tr>\n",
       "      <th>166508</th>\n",
       "      <td>2018-07-25 15:09:00</td>\n",
       "      <td>0.0</td>\n",
       "      <td>1.0</td>\n",
       "    </tr>\n",
       "    <tr>\n",
       "      <th>166509</th>\n",
       "      <td>2018-07-25 15:10:00</td>\n",
       "      <td>0.0</td>\n",
       "      <td>1.0</td>\n",
       "    </tr>\n",
       "    <tr>\n",
       "      <th>166510</th>\n",
       "      <td>2018-07-25 15:11:00</td>\n",
       "      <td>0.0</td>\n",
       "      <td>1.0</td>\n",
       "    </tr>\n",
       "    <tr>\n",
       "      <th>166511</th>\n",
       "      <td>2018-07-25 15:12:00</td>\n",
       "      <td>0.0</td>\n",
       "      <td>1.0</td>\n",
       "    </tr>\n",
       "    <tr>\n",
       "      <th>166512</th>\n",
       "      <td>2018-07-25 15:13:00</td>\n",
       "      <td>0.0</td>\n",
       "      <td>1.0</td>\n",
       "    </tr>\n",
       "    <tr>\n",
       "      <th>166513</th>\n",
       "      <td>2018-07-25 15:14:00</td>\n",
       "      <td>0.0</td>\n",
       "      <td>1.0</td>\n",
       "    </tr>\n",
       "    <tr>\n",
       "      <th>166514</th>\n",
       "      <td>2018-07-25 15:15:00</td>\n",
       "      <td>0.0</td>\n",
       "      <td>1.0</td>\n",
       "    </tr>\n",
       "    <tr>\n",
       "      <th>166515</th>\n",
       "      <td>2018-07-25 15:16:00</td>\n",
       "      <td>0.0</td>\n",
       "      <td>1.0</td>\n",
       "    </tr>\n",
       "    <tr>\n",
       "      <th>166516</th>\n",
       "      <td>2018-07-25 15:17:00</td>\n",
       "      <td>0.0</td>\n",
       "      <td>1.0</td>\n",
       "    </tr>\n",
       "    <tr>\n",
       "      <th>166517</th>\n",
       "      <td>2018-07-25 15:18:00</td>\n",
       "      <td>0.0</td>\n",
       "      <td>1.0</td>\n",
       "    </tr>\n",
       "    <tr>\n",
       "      <th>166518</th>\n",
       "      <td>2018-07-25 15:19:00</td>\n",
       "      <td>0.0</td>\n",
       "      <td>1.0</td>\n",
       "    </tr>\n",
       "  </tbody>\n",
       "</table>\n",
       "</div>"
      ],
      "text/plain": [
       "                      time  true  pred\n",
       "166505 2018-07-25 15:06:00   0.0   1.0\n",
       "166506 2018-07-25 15:07:00   0.0   1.0\n",
       "166507 2018-07-25 15:08:00   0.0   1.0\n",
       "166508 2018-07-25 15:09:00   0.0   1.0\n",
       "166509 2018-07-25 15:10:00   0.0   1.0\n",
       "166510 2018-07-25 15:11:00   0.0   1.0\n",
       "166511 2018-07-25 15:12:00   0.0   1.0\n",
       "166512 2018-07-25 15:13:00   0.0   1.0\n",
       "166513 2018-07-25 15:14:00   0.0   1.0\n",
       "166514 2018-07-25 15:15:00   0.0   1.0\n",
       "166515 2018-07-25 15:16:00   0.0   1.0\n",
       "166516 2018-07-25 15:17:00   0.0   1.0\n",
       "166517 2018-07-25 15:18:00   0.0   1.0\n",
       "166518 2018-07-25 15:19:00   0.0   1.0"
      ]
     },
     "execution_count": 139,
     "metadata": {},
     "output_type": "execute_result"
    }
   ],
   "source": [
    "print('all FP points of date:',list(g.groups.keys())[0])\n",
    "g.get_group(list(g.groups.keys())[0])"
   ]
  },
  {
   "cell_type": "markdown",
   "metadata": {},
   "source": [
    "- here also the same condition we have seen for false positive in cv data.\n",
    "- the failure is at 2018-07-25 14:00:00 which took aprrox 1 hour to get recovered. our model unable to predict the next normal state when machine is  in a failure state."
   ]
  },
  {
   "cell_type": "code",
   "execution_count": 140,
   "metadata": {},
   "outputs": [
    {
     "name": "stdout",
     "output_type": "stream",
     "text": [
      "all FP points of date: 2018-08-14\n"
     ]
    },
    {
     "data": {
      "text/html": [
       "<div>\n",
       "<style scoped>\n",
       "    .dataframe tbody tr th:only-of-type {\n",
       "        vertical-align: middle;\n",
       "    }\n",
       "\n",
       "    .dataframe tbody tr th {\n",
       "        vertical-align: top;\n",
       "    }\n",
       "\n",
       "    .dataframe thead th {\n",
       "        text-align: right;\n",
       "    }\n",
       "</style>\n",
       "<table border=\"1\" class=\"dataframe\">\n",
       "  <thead>\n",
       "    <tr style=\"text-align: right;\">\n",
       "      <th></th>\n",
       "      <th>time</th>\n",
       "      <th>true</th>\n",
       "      <th>pred</th>\n",
       "    </tr>\n",
       "  </thead>\n",
       "  <tbody>\n",
       "    <tr>\n",
       "      <th>195160</th>\n",
       "      <td>2018-08-14 12:41:00</td>\n",
       "      <td>0.0</td>\n",
       "      <td>1.0</td>\n",
       "    </tr>\n",
       "    <tr>\n",
       "      <th>195161</th>\n",
       "      <td>2018-08-14 12:42:00</td>\n",
       "      <td>0.0</td>\n",
       "      <td>1.0</td>\n",
       "    </tr>\n",
       "    <tr>\n",
       "      <th>195162</th>\n",
       "      <td>2018-08-14 12:43:00</td>\n",
       "      <td>0.0</td>\n",
       "      <td>1.0</td>\n",
       "    </tr>\n",
       "    <tr>\n",
       "      <th>195163</th>\n",
       "      <td>2018-08-14 12:44:00</td>\n",
       "      <td>0.0</td>\n",
       "      <td>1.0</td>\n",
       "    </tr>\n",
       "    <tr>\n",
       "      <th>195164</th>\n",
       "      <td>2018-08-14 12:45:00</td>\n",
       "      <td>0.0</td>\n",
       "      <td>1.0</td>\n",
       "    </tr>\n",
       "    <tr>\n",
       "      <th>195165</th>\n",
       "      <td>2018-08-14 12:46:00</td>\n",
       "      <td>0.0</td>\n",
       "      <td>1.0</td>\n",
       "    </tr>\n",
       "    <tr>\n",
       "      <th>195166</th>\n",
       "      <td>2018-08-14 12:47:00</td>\n",
       "      <td>0.0</td>\n",
       "      <td>1.0</td>\n",
       "    </tr>\n",
       "    <tr>\n",
       "      <th>195167</th>\n",
       "      <td>2018-08-14 12:48:00</td>\n",
       "      <td>0.0</td>\n",
       "      <td>1.0</td>\n",
       "    </tr>\n",
       "    <tr>\n",
       "      <th>195168</th>\n",
       "      <td>2018-08-14 12:49:00</td>\n",
       "      <td>0.0</td>\n",
       "      <td>1.0</td>\n",
       "    </tr>\n",
       "    <tr>\n",
       "      <th>195169</th>\n",
       "      <td>2018-08-14 12:50:00</td>\n",
       "      <td>0.0</td>\n",
       "      <td>1.0</td>\n",
       "    </tr>\n",
       "    <tr>\n",
       "      <th>195170</th>\n",
       "      <td>2018-08-14 12:51:00</td>\n",
       "      <td>0.0</td>\n",
       "      <td>1.0</td>\n",
       "    </tr>\n",
       "    <tr>\n",
       "      <th>195171</th>\n",
       "      <td>2018-08-14 12:52:00</td>\n",
       "      <td>0.0</td>\n",
       "      <td>1.0</td>\n",
       "    </tr>\n",
       "    <tr>\n",
       "      <th>195172</th>\n",
       "      <td>2018-08-14 12:53:00</td>\n",
       "      <td>0.0</td>\n",
       "      <td>1.0</td>\n",
       "    </tr>\n",
       "    <tr>\n",
       "      <th>195173</th>\n",
       "      <td>2018-08-14 12:54:00</td>\n",
       "      <td>0.0</td>\n",
       "      <td>1.0</td>\n",
       "    </tr>\n",
       "    <tr>\n",
       "      <th>195174</th>\n",
       "      <td>2018-08-14 12:55:00</td>\n",
       "      <td>0.0</td>\n",
       "      <td>1.0</td>\n",
       "    </tr>\n",
       "    <tr>\n",
       "      <th>195175</th>\n",
       "      <td>2018-08-14 12:56:00</td>\n",
       "      <td>0.0</td>\n",
       "      <td>1.0</td>\n",
       "    </tr>\n",
       "  </tbody>\n",
       "</table>\n",
       "</div>"
      ],
      "text/plain": [
       "                      time  true  pred\n",
       "195160 2018-08-14 12:41:00   0.0   1.0\n",
       "195161 2018-08-14 12:42:00   0.0   1.0\n",
       "195162 2018-08-14 12:43:00   0.0   1.0\n",
       "195163 2018-08-14 12:44:00   0.0   1.0\n",
       "195164 2018-08-14 12:45:00   0.0   1.0\n",
       "195165 2018-08-14 12:46:00   0.0   1.0\n",
       "195166 2018-08-14 12:47:00   0.0   1.0\n",
       "195167 2018-08-14 12:48:00   0.0   1.0\n",
       "195168 2018-08-14 12:49:00   0.0   1.0\n",
       "195169 2018-08-14 12:50:00   0.0   1.0\n",
       "195170 2018-08-14 12:51:00   0.0   1.0\n",
       "195171 2018-08-14 12:52:00   0.0   1.0\n",
       "195172 2018-08-14 12:53:00   0.0   1.0\n",
       "195173 2018-08-14 12:54:00   0.0   1.0\n",
       "195174 2018-08-14 12:55:00   0.0   1.0\n",
       "195175 2018-08-14 12:56:00   0.0   1.0"
      ]
     },
     "execution_count": 140,
     "metadata": {},
     "output_type": "execute_result"
    }
   ],
   "source": [
    "print('all FP points of date:',list(g.groups.keys())[1])\n",
    "g.get_group(list(g.groups.keys())[1])"
   ]
  },
  {
   "cell_type": "code",
   "execution_count": 141,
   "metadata": {},
   "outputs": [
    {
     "name": "stdout",
     "output_type": "stream",
     "text": [
      "all FP points of date: 2018-08-21\n"
     ]
    },
    {
     "data": {
      "text/html": [
       "<div>\n",
       "<style scoped>\n",
       "    .dataframe tbody tr th:only-of-type {\n",
       "        vertical-align: middle;\n",
       "    }\n",
       "\n",
       "    .dataframe tbody tr th {\n",
       "        vertical-align: top;\n",
       "    }\n",
       "\n",
       "    .dataframe thead th {\n",
       "        text-align: right;\n",
       "    }\n",
       "</style>\n",
       "<table border=\"1\" class=\"dataframe\">\n",
       "  <thead>\n",
       "    <tr style=\"text-align: right;\">\n",
       "      <th></th>\n",
       "      <th>time</th>\n",
       "      <th>true</th>\n",
       "      <th>pred</th>\n",
       "    </tr>\n",
       "  </thead>\n",
       "  <tbody>\n",
       "    <tr>\n",
       "      <th>205048</th>\n",
       "      <td>2018-08-21 09:29:00</td>\n",
       "      <td>0.0</td>\n",
       "      <td>1.0</td>\n",
       "    </tr>\n",
       "    <tr>\n",
       "      <th>205049</th>\n",
       "      <td>2018-08-21 09:30:00</td>\n",
       "      <td>0.0</td>\n",
       "      <td>1.0</td>\n",
       "    </tr>\n",
       "  </tbody>\n",
       "</table>\n",
       "</div>"
      ],
      "text/plain": [
       "                      time  true  pred\n",
       "205048 2018-08-21 09:29:00   0.0   1.0\n",
       "205049 2018-08-21 09:30:00   0.0   1.0"
      ]
     },
     "execution_count": 141,
     "metadata": {},
     "output_type": "execute_result"
    }
   ],
   "source": [
    "print('all FP points of date:',list(g.groups.keys())[2])\n",
    "g.get_group(list(g.groups.keys())[2])"
   ]
  },
  {
   "cell_type": "markdown",
   "metadata": {},
   "source": [
    "- these points are actually false positive, we don't have reason to justify these."
   ]
  },
  {
   "cell_type": "markdown",
   "metadata": {},
   "source": [
    "# Analysis of false negative in test data:"
   ]
  },
  {
   "cell_type": "code",
   "execution_count": 142,
   "metadata": {},
   "outputs": [
    {
     "name": "stdout",
     "output_type": "stream",
     "text": [
      "date of failure: [datetime.date(2018, 7, 25)]\n"
     ]
    },
    {
     "name": "stderr",
     "output_type": "stream",
     "text": [
      "D:\\study\\anna\\lib\\site-packages\\ipykernel_launcher.py:7: SettingWithCopyWarning: \n",
      "A value is trying to be set on a copy of a slice from a DataFrame.\n",
      "Try using .loc[row_indexer,col_indexer] = value instead\n",
      "\n",
      "See the caveats in the documentation: https://pandas.pydata.org/pandas-docs/stable/user_guide/indexing.html#returning-a-view-versus-a-copy\n",
      "  import sys\n"
     ]
    }
   ],
   "source": [
    "d=pd.DataFrame() #temp dataframe\n",
    "d['time']=X_test['timestamp']\n",
    "d['true']=y_test\n",
    "d['pred']=clf.predict(X_test[X_train.columns[0:-1]])\n",
    "a=d[d['true']==1]\n",
    "x=a[a['pred']==0]\n",
    "x['time']=pd.to_datetime(x['time'])\n",
    "g=x.groupby(by=x['time'].dt.date)\n",
    "print('date of failure:',list(g.groups.keys())) "
   ]
  },
  {
   "cell_type": "code",
   "execution_count": 143,
   "metadata": {},
   "outputs": [
    {
     "name": "stdout",
     "output_type": "stream",
     "text": [
      "all FN points of date: 2018-07-25\n"
     ]
    },
    {
     "data": {
      "text/html": [
       "<div>\n",
       "<style scoped>\n",
       "    .dataframe tbody tr th:only-of-type {\n",
       "        vertical-align: middle;\n",
       "    }\n",
       "\n",
       "    .dataframe tbody tr th {\n",
       "        vertical-align: top;\n",
       "    }\n",
       "\n",
       "    .dataframe thead th {\n",
       "        text-align: right;\n",
       "    }\n",
       "</style>\n",
       "<table border=\"1\" class=\"dataframe\">\n",
       "  <thead>\n",
       "    <tr style=\"text-align: right;\">\n",
       "      <th></th>\n",
       "      <th>time</th>\n",
       "      <th>true</th>\n",
       "      <th>pred</th>\n",
       "    </tr>\n",
       "  </thead>\n",
       "  <tbody>\n",
       "    <tr>\n",
       "      <th>166420</th>\n",
       "      <td>2018-07-25 13:41:00</td>\n",
       "      <td>1.0</td>\n",
       "      <td>0.0</td>\n",
       "    </tr>\n",
       "    <tr>\n",
       "      <th>166421</th>\n",
       "      <td>2018-07-25 13:42:00</td>\n",
       "      <td>1.0</td>\n",
       "      <td>0.0</td>\n",
       "    </tr>\n",
       "    <tr>\n",
       "      <th>166422</th>\n",
       "      <td>2018-07-25 13:43:00</td>\n",
       "      <td>1.0</td>\n",
       "      <td>0.0</td>\n",
       "    </tr>\n",
       "    <tr>\n",
       "      <th>166423</th>\n",
       "      <td>2018-07-25 13:44:00</td>\n",
       "      <td>1.0</td>\n",
       "      <td>0.0</td>\n",
       "    </tr>\n",
       "    <tr>\n",
       "      <th>166424</th>\n",
       "      <td>2018-07-25 13:45:00</td>\n",
       "      <td>1.0</td>\n",
       "      <td>0.0</td>\n",
       "    </tr>\n",
       "    <tr>\n",
       "      <th>166425</th>\n",
       "      <td>2018-07-25 13:46:00</td>\n",
       "      <td>1.0</td>\n",
       "      <td>0.0</td>\n",
       "    </tr>\n",
       "    <tr>\n",
       "      <th>166426</th>\n",
       "      <td>2018-07-25 13:47:00</td>\n",
       "      <td>1.0</td>\n",
       "      <td>0.0</td>\n",
       "    </tr>\n",
       "    <tr>\n",
       "      <th>166427</th>\n",
       "      <td>2018-07-25 13:48:00</td>\n",
       "      <td>1.0</td>\n",
       "      <td>0.0</td>\n",
       "    </tr>\n",
       "    <tr>\n",
       "      <th>166428</th>\n",
       "      <td>2018-07-25 13:49:00</td>\n",
       "      <td>1.0</td>\n",
       "      <td>0.0</td>\n",
       "    </tr>\n",
       "    <tr>\n",
       "      <th>166429</th>\n",
       "      <td>2018-07-25 13:50:00</td>\n",
       "      <td>1.0</td>\n",
       "      <td>0.0</td>\n",
       "    </tr>\n",
       "    <tr>\n",
       "      <th>166430</th>\n",
       "      <td>2018-07-25 13:51:00</td>\n",
       "      <td>1.0</td>\n",
       "      <td>0.0</td>\n",
       "    </tr>\n",
       "    <tr>\n",
       "      <th>166431</th>\n",
       "      <td>2018-07-25 13:52:00</td>\n",
       "      <td>1.0</td>\n",
       "      <td>0.0</td>\n",
       "    </tr>\n",
       "    <tr>\n",
       "      <th>166432</th>\n",
       "      <td>2018-07-25 13:53:00</td>\n",
       "      <td>1.0</td>\n",
       "      <td>0.0</td>\n",
       "    </tr>\n",
       "    <tr>\n",
       "      <th>166433</th>\n",
       "      <td>2018-07-25 13:54:00</td>\n",
       "      <td>1.0</td>\n",
       "      <td>0.0</td>\n",
       "    </tr>\n",
       "  </tbody>\n",
       "</table>\n",
       "</div>"
      ],
      "text/plain": [
       "                      time  true  pred\n",
       "166420 2018-07-25 13:41:00   1.0   0.0\n",
       "166421 2018-07-25 13:42:00   1.0   0.0\n",
       "166422 2018-07-25 13:43:00   1.0   0.0\n",
       "166423 2018-07-25 13:44:00   1.0   0.0\n",
       "166424 2018-07-25 13:45:00   1.0   0.0\n",
       "166425 2018-07-25 13:46:00   1.0   0.0\n",
       "166426 2018-07-25 13:47:00   1.0   0.0\n",
       "166427 2018-07-25 13:48:00   1.0   0.0\n",
       "166428 2018-07-25 13:49:00   1.0   0.0\n",
       "166429 2018-07-25 13:50:00   1.0   0.0\n",
       "166430 2018-07-25 13:51:00   1.0   0.0\n",
       "166431 2018-07-25 13:52:00   1.0   0.0\n",
       "166432 2018-07-25 13:53:00   1.0   0.0\n",
       "166433 2018-07-25 13:54:00   1.0   0.0"
      ]
     },
     "execution_count": 143,
     "metadata": {},
     "output_type": "execute_result"
    }
   ],
   "source": [
    "print('all FN points of date:',list(g.groups.keys())[0])\n",
    "g.get_group(list(g.groups.keys())[0])"
   ]
  },
  {
   "cell_type": "markdown",
   "metadata": {},
   "source": [
    "- we have failure at 2018-07-25 14:00:00, which should get predicted before 13:55:00.\n",
    "- our model predicted normal for this failure till 13:54:00, which means we are predicting this failure at 13:55:00."
   ]
  },
  {
   "cell_type": "markdown",
   "metadata": {},
   "source": [
    "## conclusion:\n",
    "### We have predicted all failure before 5 minutes, with false positive points on 3 dates. 1 in the cv dataset and 2 in the test dataset. for other false positive we have proper justification."
   ]
  },
  {
   "cell_type": "code",
   "execution_count": null,
   "metadata": {},
   "outputs": [],
   "source": []
  }
 ],
 "metadata": {
  "kernelspec": {
   "display_name": "Python 3",
   "language": "python",
   "name": "python3"
  },
  "language_info": {
   "codemirror_mode": {
    "name": "ipython",
    "version": 3
   },
   "file_extension": ".py",
   "mimetype": "text/x-python",
   "name": "python",
   "nbconvert_exporter": "python",
   "pygments_lexer": "ipython3",
   "version": "3.7.6"
  }
 },
 "nbformat": 4,
 "nbformat_minor": 4
}
